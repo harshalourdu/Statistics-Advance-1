{
 "cells": [
  {
   "cell_type": "markdown",
   "metadata": {},
   "source": [
    "# Q1. What is the Probability Density Function (PDF)?\n",
    "The Probability Density Function (PDF) is a function that describes the likelihood of a random variable taking on a specific value. For continuous random variables, the PDF gives the relative likelihood of the variable taking values within a certain range. The total area under the curve of a PDF is equal to 1, representing the total probability of all possible outcomes.\n",
    "\n",
    "\n",
    "\n",
    "# Q2. What are the types of Probability Distribution?\n",
    "Probability distributions are categorized based on the type of data (discrete or continuous) and the form of the distribution. The common types include:\n",
    "\n",
    "Discrete Probability Distributions:\n",
    "\n",
    "Binomial Distribution: Models the number of successes in a fixed number of independent trials, each with the same probability of success.\n",
    "Poisson Distribution: Models the number of events occurring in a fixed interval of time or space when events happen independently at a constant rate.\n",
    "Geometric Distribution: Models the number of trials until the first success in a series of independent Bernoulli trials.\n",
    "Negative Binomial Distribution: Models the number of trials until a specified number of successes.\n",
    "Continuous Probability Distributions:\n",
    "\n",
    "Normal Distribution: Describes data that tends to cluster around a mean. It's bell-shaped and symmetric.\n",
    "Exponential Distribution: Models the time between events in a Poisson process.\n",
    "Uniform Distribution: All outcomes are equally likely within a given range.\n",
    "Gamma Distribution: A two-parameter family of continuous probability distributions often used to model waiting times."
   ]
  },
  {
   "cell_type": "code",
   "execution_count": null,
   "metadata": {},
   "outputs": [],
   "source": [
    "# Q3. Write a Python function to calculate the probability density function of a normal distribution with a given mean and standard deviation at a given point.\n",
    "\n",
    "import math\n",
    "\n",
    "def normal_pdf(x, mean, std_dev):\n",
    "    \"\"\"\n",
    "    Calculate the probability density function of a normal distribution at a given point.\n",
    "    \n",
    "    Parameters:\n",
    "    x (float): The point at which the PDF is evaluated.\n",
    "    mean (float): The mean (mu) of the normal distribution.\n",
    "    std_dev (float): The standard deviation (sigma) of the normal distribution.\n",
    "    \n",
    "    Returns:\n",
    "    float: The value of the PDF at point x.\n",
    "    \"\"\"\n",
    "    return (1 / (std_dev * math.sqrt(2 * math.pi))) * math.exp(-0.5 * ((x - mean) / std_dev) ** 2)\n",
    "\n",
    "# Example usage\n",
    "mean = 0\n",
    "std_dev = 1\n",
    "x = 1.5\n",
    "pdf_value = normal_pdf(x, mean, std_dev)\n",
    "print(f\"PDF value at x={x} is: {pdf_value}\")\n"
   ]
  },
  {
   "cell_type": "markdown",
   "metadata": {},
   "source": [
    "# Q4. What are the properties of Binomial Distribution? Give two examples of events where binomial distribution can be applied.\n",
    "Properties of Binomial Distribution:\n",
    "\n",
    "Fixed number of trials (n): The experiment is performed a fixed number of times.\n",
    "Two possible outcomes (success or failure): Each trial results in a success or failure.\n",
    "Constant probability of success (p): The probability of success is the same for each trial.\n",
    "Independent trials: Each trial is independent of others.\n",
    "Discrete outcomes: The number of successes in \n",
    "𝑛\n",
    "n trials is a discrete random variable.\n",
    "Examples of events:\n",
    "\n",
    "Tossing a coin: If you flip a coin 10 times, the number of heads (successes) follows a binomial distribution.\n",
    "Quality control in manufacturing: In a factory, a worker inspects 100 products. The number of defective products (successes) follows a binomial distribution, assuming a fixed probability of defect."
   ]
  },
  {
   "cell_type": "code",
   "execution_count": null,
   "metadata": {},
   "outputs": [],
   "source": [
    "# Q5. Generate a random sample of size 1000 from a binomial distribution with a probability of success 0.4 and plot a histogram of the results using matplotlib.\n",
    "\n",
    "import numpy as np\n",
    "import matplotlib.pyplot as plt\n",
    "\n",
    "# Parameters\n",
    "n = 10  # number of trials\n",
    "p = 0.4  # probability of success\n",
    "size = 1000  # number of samples\n",
    "\n",
    "# Generate random sample from binomial distribution\n",
    "samples = np.random.binomial(n, p, size)\n",
    "\n",
    "# Plot histogram\n",
    "plt.hist(samples, bins=np.arange(samples.min(), samples.max() + 1) - 0.5, edgecolor='black')\n",
    "plt.title(\"Histogram of Binomial Distribution (n=10, p=0.4)\")\n",
    "plt.xlabel(\"Number of successes\")\n",
    "plt.ylabel(\"Frequency\")\n",
    "plt.show()\n"
   ]
  },
  {
   "cell_type": "code",
   "execution_count": null,
   "metadata": {},
   "outputs": [],
   "source": [
    "# Q6. Write a Python function to calculate the cumulative distribution function (CDF) of a Poisson distribution with a given mean at a given point.\n",
    "\n",
    "import math\n",
    "\n",
    "def poisson_cdf(k, mean):\n",
    "    \"\"\"\n",
    "    Calculate the cumulative distribution function of a Poisson distribution at a given point.\n",
    "    \n",
    "    Parameters:\n",
    "    k (int): The point at which the CDF is evaluated.\n",
    "    mean (float): The mean (lambda) of the Poisson distribution.\n",
    "    \n",
    "    Returns:\n",
    "    float: The value of the CDF at point k.\n",
    "    \"\"\"\n",
    "    cdf_value = 0\n",
    "    for i in range(k + 1):\n",
    "        cdf_value += (math.exp(-mean) * mean**i) / math.factorial(i)\n",
    "    return cdf_value\n",
    "\n",
    "# Example usage\n",
    "k = 3\n",
    "mean = 5\n",
    "cdf_value = poisson_cdf(k, mean)\n",
    "print(f\"CDF value at k={k} is: {cdf_value}\")\n"
   ]
  },
  {
   "cell_type": "markdown",
   "metadata": {},
   "source": [
    "# Q7. How is Binomial distribution different from Poisson distribution?\n",
    "Binomial Distribution:\n",
    "\n",
    "Models the number of successes in a fixed number of trials with a constant probability of success.\n",
    "Each trial is independent.\n",
    "It is used when there is a finite number of trials and a fixed probability of success (e.g., flipping a coin).\n",
    "Poisson Distribution:\n",
    "\n",
    "Models the number of events occurring in a fixed interval of time or space, given a constant average rate (mean).\n",
    "It is used for events that happen independently and at a constant average rate (e.g., number of phone calls received in an hour)."
   ]
  },
  {
   "cell_type": "code",
   "execution_count": null,
   "metadata": {},
   "outputs": [],
   "source": [
    "# Q8. Generate a random sample of size 1000 from a Poisson distribution with mean 5 and calculate the sample mean and variance.\n",
    "\n",
    "# Parameters\n",
    "mean_poisson = 5\n",
    "size_poisson = 1000\n",
    "\n",
    "# Generate random sample from Poisson distribution\n",
    "samples_poisson = np.random.poisson(mean_poisson, size_poisson)\n",
    "\n",
    "# Calculate sample mean and variance\n",
    "sample_mean = np.mean(samples_poisson)\n",
    "sample_variance = np.var(samples_poisson)\n",
    "\n",
    "print(f\"Sample Mean: {sample_mean}\")\n",
    "print(f\"Sample Variance: {sample_variance}\")\n"
   ]
  },
  {
   "cell_type": "markdown",
   "metadata": {},
   "source": [
    "# Q9. How are mean and variance related in Binomial distribution and Poisson distribution?\n",
    "\n",
    "Binomial Distribution:\n",
    "Mean:μ=n×p\n",
    "\n",
    "Variance:  =n×p×(1−p)\n",
    "\n",
    "Poisson Distribution:\n",
    "Mean:μ=λ (where \n",
    "\n",
    "λ is the average rate of occurrence)\n",
    "\n",
    "Variance: 𝜎2 =λ"
   ]
  }
 ],
 "metadata": {
  "language_info": {
   "name": "python"
  }
 },
 "nbformat": 4,
 "nbformat_minor": 2
}
